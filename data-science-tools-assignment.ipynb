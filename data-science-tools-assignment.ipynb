{
 "cells": [
  {
   "cell_type": "markdown",
   "metadata": {},
   "source": [
    "<center>\n",
    "    <img src=\"https://cf-courses-data.s3.us.cloud-object-storage.appdomain.cloud/IBMDeveloperSkillsNetwork-DS0105EN-SkillsNetwork/labs/Module2/images/SN_web_lightmode.png\" width=\"300\" alt=\"cognitiveclass.ai logo\">\n",
    "</center>\n"
   ]
  },
  {
   "cell_type": "markdown",
   "metadata": {},
   "source": [
    "#### Add your code below following the instructions given in the course\n"
   ]
  },
  {
   "cell_type": "markdown",
   "metadata": {
    "tags": []
   },
   "source": [
    "# Data Science Tools and Ecosystem"
   ]
  },
  {
   "cell_type": "markdown",
   "metadata": {},
   "source": [
    "In this notebook, Data Science Tools and Ecosystem are summarized."
   ]
  },
  {
   "cell_type": "markdown",
   "metadata": {
    "tags": []
   },
   "source": [
    "**Objectives:**\n",
    "- Common Data Science Languages\n",
    "- Common Data Science Libraries\n",
    "- Data Science Tools\n",
    "- Evaluating arithmetic expressions in Python"
   ]
  },
  {
   "cell_type": "markdown",
   "metadata": {},
   "source": [
    "Some of the data science languages that Data Scientist use are:\n",
    "1. Python: Python is the most popular language for data science. It has a rich ecosystem of libraries and frameworks for data analysis and machine learning, including NumPy, pandas, Matplotlib, seaborn, scikit-learn, TensorFlow, and PyTorch.\n",
    "2. R: R is another widely-used language for data analysis and statistics. It has a strong community and extensive libraries for data manipulation, visualization, and statistical modeling.\n",
    "3. SQL: SQL (Structured Query Language) is essential for data manipulation and querying relational databases. Data scientists often use SQL to extract and transform data from databases.\n",
    "4. Julia: Julia is gaining popularity in the data science community due to its high-performance computing capabilities. It's used for numerical and scientific computing tasks.\n",
    "5. Scale: Scala is often used in conjunction with Apache Spark for big data processing. It combines functional and object-oriented programming features.\n",
    "6. SAS: SAS (Statistical Analysis System) is a commercial software suite commonly used in industries like healthcare and finance for advanced analytics and statistical modeling.\n",
    "7. MATLAB: MATLAB is a high-level programming language used in academia and industry for numerical computing and data analysis, particularly in engineering and physics.\n",
    "8. JavaScript: JavaScript, along with libraries like D3.js, is used for web-based data visualization and interactive data dashboards.\n",
    "9. C/C++: These languages are used in cases where performance is critical, such as developing machine learning algorithms that need to run at scale.\n",
    "10. Scala: Scala is often used in conjunction with Apache Spark for big data processing. It combines functional and object-oriented programming features.\n",
    "11. Go: Go, also known as Golang, is used in some data engineering and infrastructure tasks due to its efficiency and simplicity.\n",
    "\n"
   ]
  },
  {
   "cell_type": "markdown",
   "metadata": {},
   "source": [
    "Some of the popular libraries that Data Scientists use are:\n",
    "\n",
    "Python:\n",
    "\n",
    "1. NumPy: Fundamental library for numerical operations and efficient handling of arrays and matrices.\n",
    "2. pandas: Provides data structures like DataFrames for data manipulation, cleaning, and analysis.\n",
    "3. Matplotlib: A powerful library for creating static, animated, and interactive visualizations.\n",
    "4. Seaborn: Built on Matplotlib, it provides high-level functions for statistical data visualization.\n",
    "5. Scikit-Learn: A versatile machine learning library with tools for classification, regression, clustering, and more.\n",
    "6. TensorFlow: An open-source machine learning framework developed by Google for deep learning tasks.\n",
    "7. Keras: A high-level neural networks API that runs on top of TensorFlow and other backends.\n",
    "8. PyTorch: Another popular deep learning library known for its flexibility and dynamic computation graph.\n",
    "9. NLTK (Natural Language Toolkit): A library for working with human language data, including text analysis and processing.\n",
    "10. spaCy: A library for advanced natural language processing tasks, including entity recognition and part-of-speech tagging.\n",
    "11. Statsmodels: Provides classes and functions for statistical models and hypothesis testing.\n",
    "12. XGBoost: An optimized gradient boosting library used for classification and regression tasks.\n",
    "\n",
    "R:\n",
    "\n",
    "1. dplyr: A package for data manipulation and transformation.\n",
    "2. ggplot2: A popular package for creating elegant and complex data visualizations.\n",
    "3. caret: A package for training and evaluating machine learning models.\n",
    "4. tidyr: A package for tidying and restructuring data.\n",
    "5. randomForest: Implements random forests for classification and regression.\n",
    "6. lubridate: Simplifies working with dates and times.\n",
    "\n",
    "SQL:\n",
    "\n",
    "1. SQLAlchemy: A SQL toolkit and Object-Relational Mapping (ORM) library for Python.\n",
    "2. dbplyr: Allows you to use dplyr-like syntax with SQL databases.\n",
    "\n",
    "Java/Scala (for Big Data):\n",
    "\n",
    "1. Apache Spark: A powerful framework for big data processing, including machine learning.\n",
    "2. Hadoop: A distributed storage and processing framework often used in conjunction with Spark."
   ]
  },
  {
   "cell_type": "markdown",
   "metadata": {},
   "source": [
    "<div align=\"left\">\n",
    "\n",
    "| Data Science Tool           |\n",
    "|-----------------------------|\n",
    "| Jupyter Notebook            |\n",
    "| RStudio                     |\n",
    "| VS Code                     |\n",
    "| Spyder                      |\n",
    "| PyCharm (Community)         |\n",
    "| Atom                        |\n",
    "| Sublime Text                |\n",
    "\n",
    "</div>"
   ]
  },
  {
   "cell_type": "markdown",
   "metadata": {
    "tags": []
   },
   "source": [
    "### Below are a few examples of evaluating arithmetic expressions in Python"
   ]
  },
  {
   "cell_type": "code",
   "execution_count": 1,
   "metadata": {
    "tags": []
   },
   "outputs": [
    {
     "data": {
      "text/plain": [
       "17"
      ]
     },
     "execution_count": 1,
     "metadata": {},
     "output_type": "execute_result"
    }
   ],
   "source": [
    "#This a simple arithmetic expression to mutiply then add integers\n",
    "\n",
    "(3*4)+5"
   ]
  },
  {
   "cell_type": "code",
   "execution_count": 3,
   "metadata": {
    "tags": []
   },
   "outputs": [
    {
     "data": {
      "text/plain": [
       "3.3333333333333335"
      ]
     },
     "execution_count": 3,
     "metadata": {},
     "output_type": "execute_result"
    }
   ],
   "source": [
    "#This will convert 200 minutes to hours by diving by 60\n",
    "\n",
    "200/60"
   ]
  },
  {
   "cell_type": "markdown",
   "metadata": {},
   "source": [
    "## Author\n",
    "Mevin Wan"
   ]
  },
  {
   "cell_type": "code",
   "execution_count": null,
   "metadata": {},
   "outputs": [],
   "source": []
  }
 ],
 "metadata": {
  "kernelspec": {
   "display_name": "Python",
   "language": "python",
   "name": "conda-env-python-py"
  },
  "language_info": {
   "codemirror_mode": {
    "name": "ipython",
    "version": 3
   },
   "file_extension": ".py",
   "mimetype": "text/x-python",
   "name": "python",
   "nbconvert_exporter": "python",
   "pygments_lexer": "ipython3",
   "version": "3.7.12"
  }
 },
 "nbformat": 4,
 "nbformat_minor": 4
}
